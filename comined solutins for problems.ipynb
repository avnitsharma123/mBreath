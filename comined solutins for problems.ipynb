{
 "cells": [
  {
   "cell_type": "markdown",
   "metadata": {},
   "source": [
    "# Problem 1 Hypopnea event details"
   ]
  },
  {
   "cell_type": "code",
   "execution_count": 1,
   "metadata": {},
   "outputs": [],
   "source": [
    "import xml.etree.ElementTree as ET\n",
    "import pyedflib\n",
    "import numpy as np\n",
    "import csv\n",
    "import pandas as pd"
   ]
  },
  {
   "cell_type": "code",
   "execution_count": 2,
   "metadata": {},
   "outputs": [],
   "source": [
    "tree = ET.parse(\"mesa.xml\")  #passing file file\n",
    "root = tree.getroot()\n",
    "Headers=['Duration','Input','Name','Start']\n",
    "Data=[]"
   ]
  },
  {
   "cell_type": "code",
   "execution_count": 3,
   "metadata": {},
   "outputs": [],
   "source": [
    "#finding required data\n",
    "for m in root.iter('ScoredEvent'): \n",
    "    name=m.find('Name').text\n",
    "    if name == 'Hypopnea': \n",
    "        for member in name:\n",
    "                duration = m.find('Duration').text\n",
    "                Data.append(duration)\n",
    "\n",
    "                Input = m.find('Input').text\n",
    "                Data.append(Input)\n",
    "\n",
    "                name = m.find('Name').text\n",
    "                Data.append(name)\n",
    "\n",
    "                start = m.find('Start').text\n",
    "                Data.append(start)"
   ]
  },
  {
   "cell_type": "code",
   "execution_count": 4,
   "metadata": {},
   "outputs": [
    {
     "data": {
      "text/html": [
       "<div>\n",
       "<style scoped>\n",
       "    .dataframe tbody tr th:only-of-type {\n",
       "        vertical-align: middle;\n",
       "    }\n",
       "\n",
       "    .dataframe tbody tr th {\n",
       "        vertical-align: top;\n",
       "    }\n",
       "\n",
       "    .dataframe thead th {\n",
       "        text-align: right;\n",
       "    }\n",
       "</style>\n",
       "<table border=\"1\" class=\"dataframe\">\n",
       "  <thead>\n",
       "    <tr style=\"text-align: right;\">\n",
       "      <th></th>\n",
       "      <th>Duration</th>\n",
       "      <th>Input</th>\n",
       "      <th>Name</th>\n",
       "      <th>Start</th>\n",
       "    </tr>\n",
       "  </thead>\n",
       "  <tbody>\n",
       "    <tr>\n",
       "      <th>0</th>\n",
       "      <td>12.3</td>\n",
       "      <td>Flow</td>\n",
       "      <td>Hypopnea</td>\n",
       "      <td>6114.7</td>\n",
       "    </tr>\n",
       "    <tr>\n",
       "      <th>8</th>\n",
       "      <td>11.1</td>\n",
       "      <td>Flow</td>\n",
       "      <td>Hypopnea</td>\n",
       "      <td>6188.9</td>\n",
       "    </tr>\n",
       "    <tr>\n",
       "      <th>16</th>\n",
       "      <td>12</td>\n",
       "      <td>Flow</td>\n",
       "      <td>Hypopnea</td>\n",
       "      <td>5489.7</td>\n",
       "    </tr>\n",
       "    <tr>\n",
       "      <th>24</th>\n",
       "      <td>10.7</td>\n",
       "      <td>Flow</td>\n",
       "      <td>Hypopnea</td>\n",
       "      <td>5552.1</td>\n",
       "    </tr>\n",
       "    <tr>\n",
       "      <th>32</th>\n",
       "      <td>11.2</td>\n",
       "      <td>Flow</td>\n",
       "      <td>Hypopnea</td>\n",
       "      <td>5573.4</td>\n",
       "    </tr>\n",
       "  </tbody>\n",
       "</table>\n",
       "</div>"
      ],
      "text/plain": [
       "   Duration Input      Name   Start\n",
       "0      12.3  Flow  Hypopnea  6114.7\n",
       "8      11.1  Flow  Hypopnea  6188.9\n",
       "16       12  Flow  Hypopnea  5489.7\n",
       "24     10.7  Flow  Hypopnea  5552.1\n",
       "32     11.2  Flow  Hypopnea  5573.4"
      ]
     },
     "execution_count": 4,
     "metadata": {},
     "output_type": "execute_result"
    }
   ],
   "source": [
    "#saving the data into dataframe\n",
    "df1= pd.DataFrame(Data)\n",
    "DF= pd.DataFrame(df1.values.reshape(-1, 4),columns=Headers)\n",
    "DF.drop_duplicates(keep='first', inplace=True)\n",
    "DF.to_csv('myDataFrame.csv', index=False)\n",
    "DF.head()"
   ]
  },
  {
   "cell_type": "markdown",
   "metadata": {},
   "source": [
    "# problem 2 reading edf file and extracting data"
   ]
  },
  {
   "cell_type": "code",
   "execution_count": 29,
   "metadata": {},
   "outputs": [],
   "source": [
    "#ref: https://github.com/holgern/pyedflib very helpfull\n",
    "\n",
    "f = pyedflib.EdfReader(\"edf mesa-sleep-0001.edf\")\n",
    "n= f.signals_in_file\n",
    "signal_labels = f.getSignalLabels()\n",
    "sigbufs = np.zeros((n,f.getNSamples()[0]))\n",
    "signal_labels_row = \",\".join(signal_labels)"
   ]
  },
  {
   "cell_type": "code",
   "execution_count": 30,
   "metadata": {},
   "outputs": [
    {
     "name": "stdout",
     "output_type": "stream",
     "text": [
      "EKG,EOG-L,EOG-R,EMG,EEG1,EEG2,EEG3,Pres,Flow,Snore,Thor,Abdo,Leg,Therm,Pos,EKG_Off,EOG-L_Off,EOG-R_Off,EMG_Off,EEG1_Off,EEG2_Off,EEG3_Off,Pleth,OxStatus,SpO2,HR,DHR\n"
     ]
    },
    {
     "data": {
      "text/plain": [
       "array([-0.0698558 , -0.08926528, -0.09018082, ...,  0.00375372,\n",
       "        0.00155642,  0.00027466])"
      ]
     },
     "execution_count": 30,
     "metadata": {},
     "output_type": "execute_result"
    }
   ],
   "source": [
    "#reading the signal and saving it \n",
    "print (signal_labels_row)\n",
    "flow_index = 8\n",
    "buf = f.readSignal(flow_index)\n",
    "buf"
   ]
  },
  {
   "cell_type": "code",
   "execution_count": 31,
   "metadata": {},
   "outputs": [],
   "source": [
    "f._close()# very important. pyedflib doesn't clean up in between files if the same handle is used\n",
    "n = f.getNSamples()[flow_index]\n",
    "Values_epoch = []\n",
    "for i in np.arange(n):\n",
    "    i = i/32\n",
    "    Values_epoch.append(i)"
   ]
  },
  {
   "cell_type": "code",
   "execution_count": 32,
   "metadata": {},
   "outputs": [
    {
     "name": "stdout",
     "output_type": "stream",
     "text": [
      "1382368\n",
      "1382368\n"
     ]
    }
   ],
   "source": [
    "print(len(buf))\n",
    "print(len(Values_epoch))#pushing extracted data into pd.dataframe\n",
    "Done = pd.DataFrame(\n",
    "    {'Epoch': Values_epoch,\n",
    "     'Flow': buf,\n",
    "    })"
   ]
  },
  {
   "cell_type": "code",
   "execution_count": 33,
   "metadata": {},
   "outputs": [
    {
     "data": {
      "text/html": [
       "<div>\n",
       "<style scoped>\n",
       "    .dataframe tbody tr th:only-of-type {\n",
       "        vertical-align: middle;\n",
       "    }\n",
       "\n",
       "    .dataframe tbody tr th {\n",
       "        vertical-align: top;\n",
       "    }\n",
       "\n",
       "    .dataframe thead th {\n",
       "        text-align: right;\n",
       "    }\n",
       "</style>\n",
       "<table border=\"1\" class=\"dataframe\">\n",
       "  <thead>\n",
       "    <tr style=\"text-align: right;\">\n",
       "      <th></th>\n",
       "      <th>Epoch</th>\n",
       "      <th>Flow</th>\n",
       "    </tr>\n",
       "  </thead>\n",
       "  <tbody>\n",
       "    <tr>\n",
       "      <th>0</th>\n",
       "      <td>0.00000</td>\n",
       "      <td>-0.069856</td>\n",
       "    </tr>\n",
       "    <tr>\n",
       "      <th>1</th>\n",
       "      <td>0.03125</td>\n",
       "      <td>-0.089265</td>\n",
       "    </tr>\n",
       "    <tr>\n",
       "      <th>2</th>\n",
       "      <td>0.06250</td>\n",
       "      <td>-0.090181</td>\n",
       "    </tr>\n",
       "    <tr>\n",
       "      <th>3</th>\n",
       "      <td>0.09375</td>\n",
       "      <td>-0.091646</td>\n",
       "    </tr>\n",
       "    <tr>\n",
       "      <th>4</th>\n",
       "      <td>0.12500</td>\n",
       "      <td>-0.093843</td>\n",
       "    </tr>\n",
       "  </tbody>\n",
       "</table>\n",
       "</div>"
      ],
      "text/plain": [
       "     Epoch      Flow\n",
       "0  0.00000 -0.069856\n",
       "1  0.03125 -0.089265\n",
       "2  0.06250 -0.090181\n",
       "3  0.09375 -0.091646\n",
       "4  0.12500 -0.093843"
      ]
     },
     "execution_count": 33,
     "metadata": {},
     "output_type": "execute_result"
    }
   ],
   "source": [
    "Done.to_csv('mesa-sleep-0001-profusion.xml', index=False)\n",
    "Done.head()"
   ]
  },
  {
   "cell_type": "markdown",
   "metadata": {},
   "source": [
    "# Problem 3 getting Stages event detail"
   ]
  },
  {
   "cell_type": "code",
   "execution_count": 36,
   "metadata": {},
   "outputs": [],
   "source": [
    "#passing file\n",
    "tree_1 = ET.parse('mesa-sleep-0001-nsrr.xml')\n",
    "root_1 = tree_1.getroot()"
   ]
  },
  {
   "cell_type": "code",
   "execution_count": 37,
   "metadata": {},
   "outputs": [],
   "source": [
    "#containes for storing extrated data\n",
    "duration_3q=[]\n",
    "stages_3q=[]\n",
    "start_3q=[]\n",
    "type_3q=[]"
   ]
  },
  {
   "cell_type": "code",
   "execution_count": 39,
   "metadata": {},
   "outputs": [],
   "source": [
    "#extracting required data. ref: http://docs.activestate.com/activepython/3.1/python/library/xml.etree.elementtree.html\n",
    "\n",
    "for event1 in root_1.findall('./ScoredEvents/ScoredEvent/[EventType=\"Stages|Stages\"]'):\n",
    "    duration_1 = event1.find('Duration').text\n",
    "    duration_3q.append(duration_1)\n",
    "    \n",
    "    stages_1 = event1.find('EventType').text\n",
    "    stages_3q.append(stages_1)\n",
    "    \n",
    "    start_1 = event1.find('Start').text\n",
    "    start_3q.append(start_1)\n",
    "    \n",
    "    type_1 = event1.find('EventConcept').text\n",
    "    type_3q.append(type_1)"
   ]
  },
  {
   "cell_type": "code",
   "execution_count": 43,
   "metadata": {},
   "outputs": [],
   "source": [
    "#pushing the data into dataframe\n",
    "D = pd.DataFrame(\n",
    "    {'Duration': duration_3q,\n",
    "     'Stages': type_3q,\n",
    "     'Start': start_3q,\n",
    "     'Types': stages_3q,\n",
    "    })"
   ]
  },
  {
   "cell_type": "code",
   "execution_count": 44,
   "metadata": {},
   "outputs": [],
   "source": [
    "D.to_csv('mesa-sleep.xml.csv', index=False)"
   ]
  },
  {
   "cell_type": "code",
   "execution_count": 45,
   "metadata": {},
   "outputs": [
    {
     "data": {
      "text/html": [
       "<div>\n",
       "<style scoped>\n",
       "    .dataframe tbody tr th:only-of-type {\n",
       "        vertical-align: middle;\n",
       "    }\n",
       "\n",
       "    .dataframe tbody tr th {\n",
       "        vertical-align: top;\n",
       "    }\n",
       "\n",
       "    .dataframe thead th {\n",
       "        text-align: right;\n",
       "    }\n",
       "</style>\n",
       "<table border=\"1\" class=\"dataframe\">\n",
       "  <thead>\n",
       "    <tr style=\"text-align: right;\">\n",
       "      <th></th>\n",
       "      <th>Duration</th>\n",
       "      <th>Stages</th>\n",
       "      <th>Start</th>\n",
       "      <th>Types</th>\n",
       "    </tr>\n",
       "  </thead>\n",
       "  <tbody>\n",
       "    <tr>\n",
       "      <th>0</th>\n",
       "      <td>5190.0</td>\n",
       "      <td>Wake|0</td>\n",
       "      <td>0.0</td>\n",
       "      <td>Stages|Stages</td>\n",
       "    </tr>\n",
       "    <tr>\n",
       "      <th>1</th>\n",
       "      <td>30.0</td>\n",
       "      <td>Stage 1 sleep|1</td>\n",
       "      <td>5190.0</td>\n",
       "      <td>Stages|Stages</td>\n",
       "    </tr>\n",
       "    <tr>\n",
       "      <th>2</th>\n",
       "      <td>90.0</td>\n",
       "      <td>Wake|0</td>\n",
       "      <td>5220.0</td>\n",
       "      <td>Stages|Stages</td>\n",
       "    </tr>\n",
       "    <tr>\n",
       "      <th>3</th>\n",
       "      <td>60.0</td>\n",
       "      <td>Stage 1 sleep|1</td>\n",
       "      <td>5310.0</td>\n",
       "      <td>Stages|Stages</td>\n",
       "    </tr>\n",
       "    <tr>\n",
       "      <th>4</th>\n",
       "      <td>90.0</td>\n",
       "      <td>Stage 2 sleep|2</td>\n",
       "      <td>5370.0</td>\n",
       "      <td>Stages|Stages</td>\n",
       "    </tr>\n",
       "  </tbody>\n",
       "</table>\n",
       "</div>"
      ],
      "text/plain": [
       "  Duration           Stages   Start          Types\n",
       "0   5190.0           Wake|0     0.0  Stages|Stages\n",
       "1     30.0  Stage 1 sleep|1  5190.0  Stages|Stages\n",
       "2     90.0           Wake|0  5220.0  Stages|Stages\n",
       "3     60.0  Stage 1 sleep|1  5310.0  Stages|Stages\n",
       "4     90.0  Stage 2 sleep|2  5370.0  Stages|Stages"
      ]
     },
     "execution_count": 45,
     "metadata": {},
     "output_type": "execute_result"
    }
   ],
   "source": [
    "D.head()"
   ]
  },
  {
   "cell_type": "code",
   "execution_count": null,
   "metadata": {},
   "outputs": [],
   "source": []
  }
 ],
 "metadata": {
  "kernelspec": {
   "display_name": "Python 3",
   "language": "python",
   "name": "python3"
  },
  "language_info": {
   "codemirror_mode": {
    "name": "ipython",
    "version": 3
   },
   "file_extension": ".py",
   "mimetype": "text/x-python",
   "name": "python",
   "nbconvert_exporter": "python",
   "pygments_lexer": "ipython3",
   "version": "3.6.4"
  }
 },
 "nbformat": 4,
 "nbformat_minor": 2
}
